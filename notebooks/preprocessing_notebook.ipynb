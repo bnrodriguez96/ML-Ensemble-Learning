{
 "cells": [
  {
   "cell_type": "code",
   "execution_count": 34,
   "metadata": {
    "collapsed": true
   },
   "outputs": [],
   "source": [
    "import pandas as pd\n",
    "import numpy as np\n",
    "from sklearn.ensemble import ExtraTreesClassifier\n",
    "from sklearn.feature_selection import SelectFromModel\n",
    "from sklearn.preprocessing import MinMaxScaler\n",
    "\n",
    "in_dir = '../data/'\n",
    "out_dir = '../prep_data/'\n",
    "sets = ['Autism-Adult-Data/Autism-Adult-Data-preproc.csv',\n",
    "        'bankruptcy/bankrupt.csv',\n",
    "        'breast-cancer/breast-cancer-wisconsin.data',\n",
    "        'contraceptive/contraceptive.csv',\n",
    "        'horse-colic/horse-colic.data-preproc.csv',\n",
    "        'hr-analytics/HR_comma_sep.csv',\n",
    "        'Qualitative_Bankruptcy/Qualitative_Bankruptcy.data.txt',\n",
    "        'student/student_grades.csv',\n",
    "        'teaching-english/tae.csv',\n",
    "        'website-phishing/PhishingData.csv',\n",
    "        'wine-quality/winequality-red.csv',\n",
    "        'covertypes/covertype_scale.csv',\n",
    "        'amazon/amzreviews.csv',\n",
    "        'kidney/kidney_colMeanMode.csv',\n",
    "        'congress/congress_leave.csv'\n",
    "       ]"
   ]
  },
  {
   "cell_type": "code",
   "execution_count": 37,
   "metadata": {},
   "outputs": [
    {
     "name": "stdout",
     "output_type": "stream",
     "text": [
      "Reducing hr-analytics/HR_comma_sep.csv from 14999 to 2000 samples\n",
      "Reducing covertypes/covertype_scale.csv from 5814 to 2000 samples\n",
      "Reducing amazon/amzreviews.csv from 10001 to 3093 features\n",
      "Class label is now at index 3093\n"
     ]
    },
    {
     "name": "stderr",
     "output_type": "stream",
     "text": [
      "C:\\Users\\Adi\\Anaconda3\\lib\\site-packages\\sklearn\\utils\\validation.py:475: DataConversionWarning: Data with input dtype int64 was converted to float64 by MinMaxScaler.\n",
      "  warnings.warn(msg, DataConversionWarning)\n"
     ]
    }
   ],
   "source": [
    "scaler = MinMaxScaler()\n",
    "for i in range(0, len(sets)):\n",
    "    df = pd.read_csv(in_dir+sets[i])\n",
    "    df.replace(['?',' '], np.NaN, inplace=True)\n",
    "    for col in df.select_dtypes(include=['object']).columns:\n",
    "        df[col] = df[col].astype('category').cat.codes\n",
    "    df.fillna(df.median(), inplace=True)\n",
    "    inds=None\n",
    "    if df.shape[0] > 2000:\n",
    "        print(\"Reducing %s from %d to %d samples\" % (sets[i], df.shape[0], 2000))\n",
    "        df = df.sample(n=2000)\n",
    "        inds = df.index.values\n",
    "    \n",
    "    X = df.drop('Class',axis=1)\n",
    "    Y = df['Class'].copy()\n",
    "    if df.shape[1] > 100:\n",
    "        oldShape = df.shape[1]-1\n",
    "        clf = ExtraTreesClassifier()\n",
    "        clf = clf.fit(X, Y)\n",
    "        model = SelectFromModel(clf, prefit=True)\n",
    "        X = model.transform(X)\n",
    "        print(\"Reducing %s from %d to %d features\" % (sets[i], oldShape, X.shape[1]))\n",
    "        print(\"Class label is now at index %d\" % (X.shape[1]))\n",
    "    X = scaler.fit_transform(X)\n",
    "    df = pd.DataFrame(X, index=inds, columns=list(range(0,X.shape[1])))\n",
    "    df = df.join(Y)\n",
    "    df.to_csv(out_dir+sets[i], index = False)\n",
    "    "
   ]
  },
  {
   "cell_type": "code",
   "execution_count": null,
   "metadata": {
    "collapsed": true
   },
   "outputs": [],
   "source": []
  }
 ],
 "metadata": {
  "kernelspec": {
   "display_name": "Python 3",
   "language": "python",
   "name": "python3"
  },
  "language_info": {
   "codemirror_mode": {
    "name": "ipython",
    "version": 3
   },
   "file_extension": ".py",
   "mimetype": "text/x-python",
   "name": "python",
   "nbconvert_exporter": "python",
   "pygments_lexer": "ipython3",
   "version": "3.6.3"
  }
 },
 "nbformat": 4,
 "nbformat_minor": 2
}
