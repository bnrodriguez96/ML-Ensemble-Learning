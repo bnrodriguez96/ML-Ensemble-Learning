{
 "cells": [
  {
   "cell_type": "code",
   "execution_count": 35,
   "metadata": {
    "collapsed": true
   },
   "outputs": [],
   "source": [
    "import pandas as pd\n",
    "import numpy as np\n",
    "from sklearn.preprocessing import StandardScaler"
   ]
  },
  {
   "cell_type": "code",
   "execution_count": 52,
   "metadata": {},
   "outputs": [
    {
     "name": "stdout",
     "output_type": "stream",
     "text": [
      "Autism-Adult-Data/Autism-Adult-Data-preproc.csv\n",
      "bankruptcy/bankrupt.csv\n",
      "breast-cancer/breast-cancer-wisconsin.data\n",
      "contraceptive/contraceptive.csv\n",
      "horse-colic/horse-colic.data-preproc.csv\n",
      "hr-analytics/HR_comma_sep.csv\n",
      "Qualitative_Bankruptcy/Qualitative_Bankruptcy.data.txt\n",
      "student/student_grades.csv\n",
      "teaching-english/tae.csv\n",
      "website-phishing/PhishingData.csv\n",
      "wine-quality/winequality-white.csv\n"
     ]
    }
   ],
   "source": [
    "dir = ''\n",
    "sets = ['Autism-Adult-Data/Autism-Adult-Data-preproc.csv',\\\n",
    "        'bankruptcy/bankrupt.csv',\\\n",
    "        'breast-cancer/breast-cancer-wisconsin.data',\\\n",
    "        'contraceptive/contraceptive.csv',\\\n",
    "        'horse-colic/horse-colic.data-preproc.csv',\\\n",
    "        'hr-analytics/HR_comma_sep.csv',\\\n",
    "        'Qualitative_Bankruptcy/Qualitative_Bankruptcy.data.txt',\\\n",
    "        'student/student_grades.csv',\\\n",
    "        'teaching-english/tae.csv',\\\n",
    "        'website-phishing/PhishingData.csv',\\\n",
    "        'wine-quality/winequality-white.csv'\n",
    "       ]\n",
    "scaler = StandardScaler()\n",
    "for i in range(0, len(sets)):\n",
    "    print(sets[i])\n",
    "    df = pd.read_csv(dir+sets[i])\n",
    "    df.replace(['?'], np.NaN, inplace=True)\n",
    "    for col in df.select_dtypes(include=['object']).columns:\n",
    "        df[col] = df[col].astype('category').cat.codes\n",
    "    df.fillna(df.median(), inplace=True)\n",
    "    Y = df[df.columns[-1]].copy()\n",
    "    scaled = scaler.fit_transform(df)\n",
    "    df = pd.DataFrame(scaled, columns=df.columns)\n",
    "    df[df.columns[-1]] = Y\n",
    "    df.to_csv(dir+sets[i], index = False)\n",
    "    "
   ]
  },
  {
   "cell_type": "code",
   "execution_count": null,
   "metadata": {
    "collapsed": true
   },
   "outputs": [],
   "source": [
    "df = pd.DataFrame(scaled, columns=df.columns)\n",
    "    df.to_csv(dir+sets[i]+'test')"
   ]
  }
 ],
 "metadata": {
  "kernelspec": {
   "display_name": "Python 3",
   "language": "python",
   "name": "python3"
  },
  "language_info": {
   "codemirror_mode": {
    "name": "ipython",
    "version": 3
   },
   "file_extension": ".py",
   "mimetype": "text/x-python",
   "name": "python",
   "nbconvert_exporter": "python",
   "pygments_lexer": "ipython3",
   "version": "3.6.3"
  }
 },
 "nbformat": 4,
 "nbformat_minor": 2
}
