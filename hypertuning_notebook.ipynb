{
 "cells": [
  {
   "cell_type": "code",
   "execution_count": 8,
   "metadata": {},
   "outputs": [],
   "source": [
    "import MajorityClassifier as MCL\n",
    "import numpy as np\n",
    "import pandas as pd\n",
    "df = pd.read_csv('prep_data/teaching-english/tae.csv_preprocessed')\n",
    "#print(df['quality'].value_counts())\n",
    "#sampled = df.sample(n=2500)\n",
    "#print(sampled['quality'].value_counts())\n",
    "#sampled.to_csv('prep_data/wine-quality/winequality-white.csv_preprocessed_reduced', index=False)"
   ]
  },
  {
   "cell_type": "code",
   "execution_count": 10,
   "metadata": {},
   "outputs": [
    {
     "name": "stderr",
     "output_type": "stream",
     "text": [
      "C:\\Users\\Adi\\Anaconda3\\lib\\site-packages\\sklearn\\neural_network\\multilayer_perceptron.py:564: ConvergenceWarning: Stochastic Optimizer: Maximum iterations (200) reached and the optimization hasn't converged yet.\n",
      "  % self.max_iter, ConvergenceWarning)\n",
      "C:\\Users\\Adi\\Anaconda3\\lib\\site-packages\\sklearn\\neural_network\\multilayer_perceptron.py:564: ConvergenceWarning: Stochastic Optimizer: Maximum iterations (200) reached and the optimization hasn't converged yet.\n",
      "  % self.max_iter, ConvergenceWarning)\n",
      "C:\\Users\\Adi\\Anaconda3\\lib\\site-packages\\sklearn\\neural_network\\multilayer_perceptron.py:564: ConvergenceWarning: Stochastic Optimizer: Maximum iterations (200) reached and the optimization hasn't converged yet.\n",
      "  % self.max_iter, ConvergenceWarning)\n",
      "C:\\Users\\Adi\\Anaconda3\\lib\\site-packages\\sklearn\\neural_network\\multilayer_perceptron.py:564: ConvergenceWarning: Stochastic Optimizer: Maximum iterations (200) reached and the optimization hasn't converged yet.\n",
      "  % self.max_iter, ConvergenceWarning)\n"
     ]
    }
   ],
   "source": [
    "clf = MCL.MajorityClassifier(weighted=True)\n",
    "X = df.drop('score', axis=1)\n",
    "clf.fit(X, df['score'])\n",
    "X = np.array(X)"
   ]
  },
  {
   "cell_type": "code",
   "execution_count": 11,
   "metadata": {},
   "outputs": [
    {
     "name": "stdout",
     "output_type": "stream",
     "text": [
      "0.6423841059602649\n",
      "[ 0 57 50 44]\n"
     ]
    }
   ],
   "source": [
    "Y = clf.predict(X)\n",
    "print(clf.score(X, df['score']))\n",
    "print(np.bincount(Y))"
   ]
  },
  {
   "cell_type": "code",
   "execution_count": 20,
   "metadata": {},
   "outputs": [
    {
     "name": "stdout",
     "output_type": "stream",
     "text": [
      "0.9668874172185431\n"
     ]
    }
   ],
   "source": [
    "from sklearn.neighbors import KNeighborsClassifier\n",
    "from sklearn.ensemble import RandomForestClassifier\n",
    "from sklearn.svm import SVC\n",
    "knn = KNeighborsClassifier()\n",
    "rf = RandomForestClassifier()\n",
    "svm = SVC()\n",
    "knn.fit(X, df['score'])\n",
    "rf.fit(X, df['score'])\n",
    "svm.fit(X, df['score'])\n",
    "print(rf.score(X, df['score']))"
   ]
  },
  {
   "cell_type": "code",
   "execution_count": null,
   "metadata": {
    "collapsed": true
   },
   "outputs": [],
   "source": [
    "classifiers = [knn, rf, svm]\n",
    "vs = []\n",
    "res2 = []\n",
    "for x in X:\n",
    "    votes = np.concatenate([c.predict([x]) for c in classifiers])\n",
    "    vs.append(votes)\n",
    "    res2.append(np.bincount(votes).argmax())\n",
    "res = np.apply_along_axis(\n",
    "        lambda x: np.bincount(np.concatenate([c.predict([x]) for c in classifiers])).argmax(),axis=1,arr=np.array(X))\n",
    "print(res==res2)\n",
    "print(res2)"
   ]
  },
  {
   "cell_type": "code",
   "execution_count": 6,
   "metadata": {},
   "outputs": [
    {
     "name": "stdout",
     "output_type": "stream",
     "text": [
      "['svm', 'knn', 'mnb', 'rf', 'mlp']\n",
      "[('svm', 'knn', 'mnb'), ('svm', 'knn', 'rf'), ('svm', 'knn', 'mlp'), ('svm', 'mnb', 'rf'), ('svm', 'mnb', 'mlp'), ('svm', 'rf', 'mlp'), ('knn', 'mnb', 'rf'), ('knn', 'mnb', 'mlp'), ('knn', 'rf', 'mlp'), ('mnb', 'rf', 'mlp')]\n",
      "[('svm', 'knn', 'mnb', 'rf', 'mlp')]\n"
     ]
    }
   ],
   "source": [
    "import itertools\n",
    "import MajorityClassifier\n",
    "algs = list(MajorityClassifier._CLASSIFIERS.keys())\n",
    "print(algs)\n",
    "print(list(itertools.combinations(algs, 3)))\n",
    "print(list(itertools.combinations(algs, 5)))\n"
   ]
  },
  {
   "cell_type": "code",
   "execution_count": null,
   "metadata": {
    "collapsed": true
   },
   "outputs": [],
   "source": []
  }
 ],
 "metadata": {
  "kernelspec": {
   "display_name": "Python 3",
   "language": "python",
   "name": "python3"
  },
  "language_info": {
   "codemirror_mode": {
    "name": "ipython",
    "version": 3
   },
   "file_extension": ".py",
   "mimetype": "text/x-python",
   "name": "python",
   "nbconvert_exporter": "python",
   "pygments_lexer": "ipython3",
   "version": "3.6.3"
  }
 },
 "nbformat": 4,
 "nbformat_minor": 2
}
